{
 "cells": [
  {
   "cell_type": "markdown",
   "id": "52263f94",
   "metadata": {},
   "source": [
    "# Using a State-Of-The-Art (SOTA) GANs\n",
    "\n",
    "In this exercise you will get to experiment with some modern and best-in-class GANs.\n",
    "\n",
    "These GANs have been built with the [StyleGAN-3](https://nvlabs.github.io/stylegan3/) system by NVIDIA. Since here we will only use them for inference - no training necessary - we will not need a lot of code.\n",
    "\n",
    "Let's start by importing all the modules we will need:"
   ]
  },
  {
   "cell_type": "code",
   "execution_count": 1,
   "id": "4154493a",
   "metadata": {},
   "outputs": [],
   "source": [
    "import os\n",
    "import pickle\n",
    "import matplotlib.pyplot as plt\n",
    "import torch"
   ]
  },
  {
   "cell_type": "markdown",
   "id": "ab5afbfd",
   "metadata": {},
   "source": [
    "Now we can load one of the models. There are several GANs available for use directly from the authors. You can find the full list [here](https://catalog.ngc.nvidia.com/orgs/nvidia/teams/research/models/stylegan3/files).\n",
    "\n",
    "For this exercise, we are going to experiment with a StyleGAN trained on the [Animal Faces-HQ](https://paperswithcode.com/dataset/afhq) dataset. It can generate unconditionally images of animals.\n",
    "\n",
    "Let's load the model. In this case, the authors decided to export their models in a special pickle file containing all the needed code:\n",
    "\n",
    "> NOTE: in order to use it on your own, remember to download the [StyleGAN3](https://github.com/NVlabs/stylegan3) repo and put it in your PYTHONPATH or do this:"
   ]
  },
  {
   "cell_type": "code",
   "execution_count": 2,
   "id": "4202ed16",
   "metadata": {},
   "outputs": [],
   "source": [
    "# Add styleGAN3 repo to the paths where python\n",
    "# searches for modules\n",
    "import sys\n",
    "sys.path.append(\"/home/student/stylegan3\")"
   ]
  },
  {
   "cell_type": "code",
   "execution_count": 3,
   "id": "716a2721",
   "metadata": {},
   "outputs": [
    {
     "ename": "FileNotFoundError",
     "evalue": "[Errno 2] No such file or directory: '/home/student/.cache/dnnlib/downloads/20755e1ffb4380580e4954f8b0f9e630_stylegan3-r-afhqv2-512x512.pkl'",
     "output_type": "error",
     "traceback": [
      "\u001b[31m---------------------------------------------------------------------------\u001b[39m",
      "\u001b[31mFileNotFoundError\u001b[39m                         Traceback (most recent call last)",
      "\u001b[36mCell\u001b[39m\u001b[36m \u001b[39m\u001b[32mIn[3]\u001b[39m\u001b[32m, line 1\u001b[39m\n\u001b[32m----> \u001b[39m\u001b[32m1\u001b[39m \u001b[38;5;28;01mwith\u001b[39;00m \u001b[38;5;28;43mopen\u001b[39;49m\u001b[43m(\u001b[49m\u001b[33;43m'\u001b[39;49m\u001b[33;43m/home/student/.cache/dnnlib/downloads/20755e1ffb4380580e4954f8b0f9e630_stylegan3-r-afhqv2-512x512.pkl\u001b[39;49m\u001b[33;43m'\u001b[39;49m\u001b[43m,\u001b[49m\u001b[43m \u001b[49m\u001b[33;43m'\u001b[39;49m\u001b[33;43mrb\u001b[39;49m\u001b[33;43m'\u001b[39;49m\u001b[43m)\u001b[49m \u001b[38;5;28;01mas\u001b[39;00m f:\n\u001b[32m      2\u001b[39m     stylegan_model = pickle.load(f)\n",
      "\u001b[36mFile \u001b[39m\u001b[32m~/code/udacity/nd608-generative-ai/.venv/lib/python3.12/site-packages/IPython/core/interactiveshell.py:325\u001b[39m, in \u001b[36m_modified_open\u001b[39m\u001b[34m(file, *args, **kwargs)\u001b[39m\n\u001b[32m    318\u001b[39m \u001b[38;5;28;01mif\u001b[39;00m file \u001b[38;5;129;01min\u001b[39;00m {\u001b[32m0\u001b[39m, \u001b[32m1\u001b[39m, \u001b[32m2\u001b[39m}:\n\u001b[32m    319\u001b[39m     \u001b[38;5;28;01mraise\u001b[39;00m \u001b[38;5;167;01mValueError\u001b[39;00m(\n\u001b[32m    320\u001b[39m         \u001b[33mf\u001b[39m\u001b[33m\"\u001b[39m\u001b[33mIPython won\u001b[39m\u001b[33m'\u001b[39m\u001b[33mt let you open fd=\u001b[39m\u001b[38;5;132;01m{\u001b[39;00mfile\u001b[38;5;132;01m}\u001b[39;00m\u001b[33m by default \u001b[39m\u001b[33m\"\u001b[39m\n\u001b[32m    321\u001b[39m         \u001b[33m\"\u001b[39m\u001b[33mas it is likely to crash IPython. If you know what you are doing, \u001b[39m\u001b[33m\"\u001b[39m\n\u001b[32m    322\u001b[39m         \u001b[33m\"\u001b[39m\u001b[33myou can use builtins\u001b[39m\u001b[33m'\u001b[39m\u001b[33m open.\u001b[39m\u001b[33m\"\u001b[39m\n\u001b[32m    323\u001b[39m     )\n\u001b[32m--> \u001b[39m\u001b[32m325\u001b[39m \u001b[38;5;28;01mreturn\u001b[39;00m \u001b[43mio_open\u001b[49m\u001b[43m(\u001b[49m\u001b[43mfile\u001b[49m\u001b[43m,\u001b[49m\u001b[43m \u001b[49m\u001b[43m*\u001b[49m\u001b[43margs\u001b[49m\u001b[43m,\u001b[49m\u001b[43m \u001b[49m\u001b[43m*\u001b[49m\u001b[43m*\u001b[49m\u001b[43mkwargs\u001b[49m\u001b[43m)\u001b[49m\n",
      "\u001b[31mFileNotFoundError\u001b[39m: [Errno 2] No such file or directory: '/home/student/.cache/dnnlib/downloads/20755e1ffb4380580e4954f8b0f9e630_stylegan3-r-afhqv2-512x512.pkl'"
     ]
    }
   ],
   "source": [
    "with open('/home/student/.cache/dnnlib/downloads/20755e1ffb4380580e4954f8b0f9e630_stylegan3-r-afhqv2-512x512.pkl', 'rb') as f:\n",
    "    stylegan_model = pickle.load(f)"
   ]
  },
  {
   "cell_type": "markdown",
   "id": "3c450b4f",
   "metadata": {},
   "source": [
    "Let's look at what's inside:"
   ]
  },
  {
   "cell_type": "code",
   "execution_count": null,
   "id": "d1031836",
   "metadata": {},
   "outputs": [],
   "source": [
    "stylegan_model.keys()"
   ]
  },
  {
   "cell_type": "markdown",
   "id": "a4d6915c",
   "metadata": {},
   "source": [
    "Can you guess what do the `G` and `D` stand for here?\n",
    "\n",
    "> **YOUR ANSWER HERE**"
   ]
  },
  {
   "cell_type": "markdown",
   "id": "aba92728",
   "metadata": {},
   "source": [
    "What about `G_ema`?\n",
    "\n",
    "> **YOUR ANSWER HERE**"
   ]
  },
  {
   "cell_type": "markdown",
   "id": "ff6cf4af",
   "metadata": {},
   "source": [
    "We can ignore the rest of the keys. Ok, so let's get the Exponential Moving Average Generator then:"
   ]
  },
  {
   "cell_type": "code",
   "execution_count": null,
   "id": "3cca1c69",
   "metadata": {},
   "outputs": [],
   "source": [
    "G =  # YOUR CODE HERE: get the EMA model from the stylegan_model dictionary\n",
    "G"
   ]
  },
  {
   "cell_type": "markdown",
   "id": "063f0749",
   "metadata": {},
   "source": [
    "We can see that the Generator network here is a lot more complex than what we used in our exercise from scratch. You can refere to the StyleGAN3 repo and paper for details."
   ]
  },
  {
   "cell_type": "markdown",
   "id": "c7635658",
   "metadata": {},
   "source": [
    "We won't need it for generating, but just for fun, let's also get the Discriminator network and have a look at it:"
   ]
  },
  {
   "cell_type": "code",
   "execution_count": null,
   "id": "6239144f",
   "metadata": {},
   "outputs": [],
   "source": [
    "D = # YOUR CODE HERE: get the Discriminator\n",
    "D"
   ]
  },
  {
   "cell_type": "markdown",
   "id": "f5ec6e4c",
   "metadata": {},
   "source": [
    "The Discriminator looks a lot more like a normal Convolutional Neural Network. Note however that the output of the discriminator is 1 number with a linear activation:\n",
    "\n",
    "```\n",
    "(out): FullyConnectedLayer(in_features=512, out_features=1, activation=linear)\n",
    "```\n",
    "instead of a Sygmoid activation as we used before. Why? Because this is actually a Critic network more than a Discriminator network, so the output is a score for the input image, and not a class probability as in the case of the DCGAN we have seen before.\n",
    "\n",
    "Anyway, now we are ready to generate an image."
   ]
  },
  {
   "cell_type": "code",
   "execution_count": null,
   "id": "9f4c814b",
   "metadata": {},
   "outputs": [],
   "source": [
    "z_dim = G.z_dim\n",
    "\n",
    "# Generate a latent code with batch dimension of 1\n",
    "# and latent dimension z_dim\n",
    "# Remember: you can generate random numbers distributed as a \n",
    "# normal distribution using torch.randn\n",
    "z = # YOUR CODE HERE"
   ]
  },
  {
   "cell_type": "markdown",
   "id": "ce983475",
   "metadata": {},
   "source": [
    "Now let's move everything to the GPU:"
   ]
  },
  {
   "cell_type": "code",
   "execution_count": null,
   "id": "32b8cafa",
   "metadata": {},
   "outputs": [],
   "source": [
    "z = z.to(\"cuda\")\n",
    "G = G.to(\"cuda\")"
   ]
  },
  {
   "cell_type": "markdown",
   "id": "f8ea0449",
   "metadata": {},
   "source": [
    "Great, now call the Generator network:\n",
    "\n",
    "> NOTE: StyleGAN3 can also be class-conditioned, i.e., conditioned to generate a specific class in the dataset. This model we are using is not, so our class tensor will just be None"
   ]
  },
  {
   "cell_type": "code",
   "execution_count": null,
   "id": "6d6411e9",
   "metadata": {},
   "outputs": [],
   "source": [
    "c = None\n",
    "# Call the Generator passing in the latent.\n",
    "img = # YOUR CODE HERE"
   ]
  },
  {
   "cell_type": "markdown",
   "id": "af964e7b",
   "metadata": {},
   "source": [
    "The image generated by the network contains values distributed more or less in the range -1 to +1, but not exactly. We need to convert that to a RGB image and trucante the values that are outside of the range. We can do all of that like this:"
   ]
  },
  {
   "cell_type": "code",
   "execution_count": null,
   "id": "8e8ab28c",
   "metadata": {},
   "outputs": [],
   "source": [
    "# From batch, bgr to batch, RGB\n",
    "rgb_img = img.permute(0, 2, 3, 1)\n",
    "\n",
    "# Convert to the RGB range then cut values outside of the range\n",
    "rgb_img = (rgb_img * 127.5 + 128).clamp(0, 255)\n",
    "\n",
    "# Now convert to unsigned integers and move to CPU, so we can display\n",
    "rgb_img = rgb_img.to(torch.uint8).cpu()"
   ]
  },
  {
   "cell_type": "code",
   "execution_count": null,
   "id": "4ff5658e",
   "metadata": {},
   "outputs": [],
   "source": [
    "plt.imshow(rgb_img.squeeze(dim=0))\n",
    "plt.axis(\"off\")"
   ]
  },
  {
   "cell_type": "markdown",
   "id": "e626a3d8",
   "metadata": {},
   "source": [
    "Now generate a few more images:"
   ]
  },
  {
   "cell_type": "code",
   "execution_count": null,
   "id": "a5d96770",
   "metadata": {},
   "outputs": [],
   "source": [
    "# YOUR CODE HERE\n"
   ]
  },
  {
   "cell_type": "markdown",
   "id": "fd876c33",
   "metadata": {},
   "source": [
    "Look the details here! The fur and all the other details are reproduced almost flawlessly."
   ]
  }
 ],
 "metadata": {
  "kernelspec": {
   "display_name": ".venv",
   "language": "python",
   "name": "python3"
  },
  "language_info": {
   "codemirror_mode": {
    "name": "ipython",
    "version": 3
   },
   "file_extension": ".py",
   "mimetype": "text/x-python",
   "name": "python",
   "nbconvert_exporter": "python",
   "pygments_lexer": "ipython3",
   "version": "3.12.3"
  }
 },
 "nbformat": 4,
 "nbformat_minor": 5
}
