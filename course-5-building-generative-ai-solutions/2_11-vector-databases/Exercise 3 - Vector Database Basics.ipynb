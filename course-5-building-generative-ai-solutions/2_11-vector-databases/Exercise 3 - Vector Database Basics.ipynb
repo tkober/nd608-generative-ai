{
 "cells": [
  {
   "cell_type": "markdown",
   "id": "767e4e3e",
   "metadata": {},
   "source": [
    "# Vector Database Basics\n",
    "\n",
    "Vector databases help us store, manage, and query the embeddings we created for generative AI, recommenders, and search engines.\n",
    "\n",
    "Across many of the common use cases, users often find that they need to manage more than just vectors.\n",
    "To make it easier for practitioners, vector databases should store and manage all of the data they need:\n",
    "- embedding vectors\n",
    "- categorical metadata\n",
    "- numerical metadata\n",
    "- timeseries metadata\n",
    "- text / pdf / images / video / point clouds\n",
    "\n",
    "And support a wide range of query workloads:\n",
    "- Vector search (may require ANN-index)\n",
    "- Keyword search (requires full text search index)\n",
    "- SQL (for filtering)\n",
    "\n",
    "For this exercise we'll use LanceDB since it's open source and easy to setup"
   ]
  },
  {
   "cell_type": "code",
   "execution_count": 2,
   "id": "3e7121aa-1f23-4caf-8d97-978b58090566",
   "metadata": {},
   "outputs": [],
   "source": [
    "# pip install -U --quiet lancedb pandas pydantic [This has been pre-installed for you]"
   ]
  },
  {
   "cell_type": "markdown",
   "id": "7056be41",
   "metadata": {},
   "source": [
    "## Creating tables and adding data\n",
    "\n",
    "Let's create a LanceDB table called `cats_and_dogs` under the local database directory `~/.lancedb`.\n",
    "This table should have 4 fields:\n",
    "- the embedding vector\n",
    "- a string field indicating the species (either \"cat\" or \"dog\")\n",
    "- the breed\n",
    "- average weight in pounds"
   ]
  },
  {
   "cell_type": "markdown",
   "id": "491420f1",
   "metadata": {},
   "source": [
    "We're going to use pydantic to make this easier. First let's create a pydantic model with those fields"
   ]
  },
  {
   "cell_type": "code",
   "execution_count": null,
   "id": "ff59f636",
   "metadata": {},
   "outputs": [],
   "source": [
    "from lancedb.pydantic import vector, LanceModel\n",
    "\n",
    "class CatsAndDogs(LanceModel):\n",
    "    vector: vector(2)\n",
    "    species: str\n",
    "    breed: str\n",
    "    weight: float"
   ]
  },
  {
   "cell_type": "markdown",
   "id": "31c35990",
   "metadata": {},
   "source": [
    "Now connect to a local db at ~/.lancedb and create an empty LanceDB table called \"cats_and_dogs\""
   ]
  },
  {
   "cell_type": "code",
   "execution_count": null,
   "id": "1f59c988",
   "metadata": {},
   "outputs": [],
   "source": [
    "import lancedb\n",
    "\n",
    "<fill me in>"
   ]
  },
  {
   "cell_type": "markdown",
   "id": "e86190e6",
   "metadata": {},
   "source": [
    "Let's add some data"
   ]
  },
  {
   "cell_type": "markdown",
   "id": "2c0f0fb7",
   "metadata": {},
   "source": [
    "First some cats"
   ]
  },
  {
   "cell_type": "code",
   "execution_count": null,
   "id": "7c39b097",
   "metadata": {},
   "outputs": [],
   "source": [
    "data = [\n",
    "    CatsAndDogs(\n",
    "        vector=[1., 0.],\n",
    "        species=\"cat\",\n",
    "        breed=\"shorthair\",\n",
    "        weight=12.,\n",
    "    ),\n",
    "    CatsAndDogs(\n",
    "        vector=[-1., 0.],\n",
    "        species=\"cat\",\n",
    "        breed=\"himalayan\",\n",
    "        weight=9.5,\n",
    "    ),\n",
    "]"
   ]
  },
  {
   "cell_type": "markdown",
   "id": "52b2fed2",
   "metadata": {},
   "source": [
    "Now call the `LanceTable.add` API to insert these two records into the table"
   ]
  },
  {
   "cell_type": "code",
   "execution_count": null,
   "id": "5714a80e",
   "metadata": {},
   "outputs": [],
   "source": [
    "<fill me in>"
   ]
  },
  {
   "cell_type": "markdown",
   "id": "9fd3adb9",
   "metadata": {},
   "source": [
    "Let's preview the data"
   ]
  },
  {
   "cell_type": "code",
   "execution_count": null,
   "id": "6ce21774",
   "metadata": {
    "scrolled": true
   },
   "outputs": [],
   "source": [
    "table.head().to_pandas()"
   ]
  },
  {
   "cell_type": "markdown",
   "id": "4d18459d",
   "metadata": {},
   "source": [
    "Now let's add some dogs"
   ]
  },
  {
   "cell_type": "code",
   "execution_count": null,
   "id": "07a40981",
   "metadata": {},
   "outputs": [],
   "source": [
    "data = [\n",
    "    CatsAndDogs(\n",
    "        vector=[0., 10.],\n",
    "        species=\"dog\",\n",
    "        breed=\"samoyed\",\n",
    "        weight=47.5,\n",
    "    ),\n",
    "    CatsAndDogs(\n",
    "        vector=[0, -1.],\n",
    "        species=\"dog\",\n",
    "        breed=\"corgi\",\n",
    "        weight=26.,\n",
    "    )\n",
    "]"
   ]
  },
  {
   "cell_type": "code",
   "execution_count": null,
   "id": "e16f9a66",
   "metadata": {},
   "outputs": [],
   "source": [
    "<fill me in>"
   ]
  },
  {
   "cell_type": "code",
   "execution_count": null,
   "id": "6dfe97e8",
   "metadata": {},
   "outputs": [],
   "source": [
    "table.head().to_pandas()"
   ]
  },
  {
   "cell_type": "markdown",
   "id": "ae801f66",
   "metadata": {},
   "source": [
    "## Querying tables\n",
    "\n",
    "Vector databases allow us to retrieve data for generative AI applications. Let's see how that's done."
   ]
  },
  {
   "cell_type": "markdown",
   "id": "49ace8f8",
   "metadata": {},
   "source": [
    "Let's say we have a new animal that has embedding [10.5, 10.], what would you expect the most similar animal will be?\n",
    "Can you use the table we created above to answer the question?\n",
    "\n",
    "**HINT** you'll need to use the `search` API for LanceTable and `limit` / `to_df` APIs. For examples you can refer to [LanceDB documentation](https://lancedb.github.io/lancedb/basic/#how-to-search-for-approximate-nearest-neighbors)."
   ]
  },
  {
   "cell_type": "code",
   "execution_count": null,
   "id": "42370af3",
   "metadata": {},
   "outputs": [],
   "source": [
    "<fill me in>"
   ]
  },
  {
   "cell_type": "markdown",
   "id": "ff544138",
   "metadata": {},
   "source": [
    "Now what if we use cosine distance instead? Would you expect that we get the same answer? Why or why not?\n",
    "\n",
    "**HINT** you can add a call to `metric` in the call chain"
   ]
  },
  {
   "cell_type": "code",
   "execution_count": null,
   "id": "b20807b2",
   "metadata": {},
   "outputs": [],
   "source": [
    "<fill me in>"
   ]
  },
  {
   "cell_type": "markdown",
   "id": "d9320abc",
   "metadata": {},
   "source": [
    "## Filtering tables\n",
    "\n",
    "In practice, we often need to specify more than just a search vector for good quality retrieval. Oftentimes we need to filter the metadata as well."
   ]
  },
  {
   "cell_type": "markdown",
   "id": "aec215e3",
   "metadata": {},
   "source": [
    "Please write code to retrieve two most similar examples to the embedding [10.5, 10.] but only show the results that is a cat."
   ]
  },
  {
   "cell_type": "code",
   "execution_count": null,
   "id": "bfdbde95",
   "metadata": {},
   "outputs": [],
   "source": [
    "<fill me in>"
   ]
  },
  {
   "cell_type": "markdown",
   "id": "43ce2929",
   "metadata": {},
   "source": [
    "## Creating ANN indices\n",
    "\n",
    "For larger tables (e.g., >1M rows), searching through all of the vectors becomes quite slow. Here is where the Approximate Nearest Neighbor (ANN) index comes into play. While there are many different ANN indexing algorithms, they all have the same purpose - to drastically limit the search space as much as possible while losing as little accuracy as possible\n",
    "\n",
    "For this problem we will create an ANN index on a LanceDB table and see how that impacts performance"
   ]
  },
  {
   "cell_type": "markdown",
   "id": "e14cc160",
   "metadata": {},
   "source": [
    "### First let's create some data\n",
    "\n",
    "Given the constraints of the classroom workspace, we'll complete this exercise by creating 100,000 vectors with 16D in a new table. Here the embedding values don't matter, so we simply generate random embeddings as a 2D numpy array. We then use the vec_to_table function to convert that in to an Arrow table, which can then be added to the table."
   ]
  },
  {
   "cell_type": "code",
   "execution_count": null,
   "id": "c2232841",
   "metadata": {},
   "outputs": [],
   "source": [
    "from lance.vector import vec_to_table\n",
    "import numpy as np\n",
    "\n",
    "mat = np.random.randn(100_000, 16)\n",
    "table_name = \"exercise3_ann\"\n",
    "db.drop_table(table_name, ignore_missing=True)\n",
    "table = db.create_table(table_name, vec_to_table(mat))"
   ]
  },
  {
   "cell_type": "markdown",
   "id": "835ba417",
   "metadata": {},
   "source": [
    "### Let's establish a baseline without an index\n",
    "\n",
    "Before we create the index, let's make sure know what we need to compare against.\n",
    "\n",
    "We'll generate a random query vector and record it's value in the `query` variable so we can use the same query vector with and without the ANN index."
   ]
  },
  {
   "cell_type": "code",
   "execution_count": null,
   "id": "c9c66952",
   "metadata": {},
   "outputs": [],
   "source": [
    "query = np.random.randn(16)\n",
    "table.search(query).limit(10).to_df()"
   ]
  },
  {
   "cell_type": "markdown",
   "id": "4e5727bf",
   "metadata": {},
   "source": [
    "Please write code to compute the average latency of this query"
   ]
  },
  {
   "cell_type": "code",
   "execution_count": null,
   "id": "8b8c3ec2",
   "metadata": {},
   "outputs": [],
   "source": [
    "<fill me in>"
   ]
  },
  {
   "cell_type": "markdown",
   "id": "2cd7063c",
   "metadata": {},
   "source": [
    "### Now let's create an index\n",
    "\n",
    "There are many possible index types ranging from hash based to tree based to partition based to graph based.\n",
    "For this task, we'll create an IVFPQ index (partition-based index with product quantization compression) using LanceDB.\n",
    "\n",
    "Please create an IVFPQ index on the LanceDB table such that each partition is 4000 rows and each PQ subvector is 8D.\n",
    "\n",
    "**HINT** \n",
    "1. Total vectors / number of partitions = number of vectors in each partition\n",
    "2. Total dimensions / number of subvectors = number of dimensions in each subvector\n",
    "3. This step can take about 7-10 minutes to process and execute in the classroom workspace."
   ]
  },
  {
   "cell_type": "code",
   "execution_count": null,
   "id": "dd56c13c",
   "metadata": {},
   "outputs": [],
   "source": [
    "<fill me in>"
   ]
  },
  {
   "cell_type": "markdown",
   "id": "2d7fd1cf",
   "metadata": {},
   "source": [
    "Now let's search through the data again. Notice how the answers now appear different.\n",
    "This is because an ANN index is always a tradeoff between latency and accuracy."
   ]
  },
  {
   "cell_type": "code",
   "execution_count": null,
   "id": "fddd7e20",
   "metadata": {},
   "outputs": [],
   "source": [
    "table.search(query).limit(10).to_df()"
   ]
  },
  {
   "cell_type": "markdown",
   "id": "a484f4e6",
   "metadata": {},
   "source": [
    "Now write code to compute the average latency for querying the same table using the ANN index.\n",
    "\n",
    "**SOLUTION** The index is implementation detail, so it should just be running the same code as above. You should see almost an order of magnitude speed-up. On larger datasets, this performance difference should be even more pronounced."
   ]
  },
  {
   "cell_type": "code",
   "execution_count": null,
   "id": "160d215a",
   "metadata": {},
   "outputs": [],
   "source": [
    "<fill me in>"
   ]
  },
  {
   "cell_type": "markdown",
   "id": "2e6cf308",
   "metadata": {},
   "source": [
    "## Deleting rows\n",
    "\n",
    "Like with other kinds of databases, you should be able to remove rows from the table.\n",
    "Let's go back to our tables of cats and dogs"
   ]
  },
  {
   "cell_type": "code",
   "execution_count": null,
   "id": "a6f6f507",
   "metadata": {},
   "outputs": [],
   "source": [
    "table = db[\"cats_and_dogs\"]"
   ]
  },
  {
   "cell_type": "code",
   "execution_count": null,
   "id": "d3972a8e",
   "metadata": {},
   "outputs": [],
   "source": [
    "len(table)"
   ]
  },
  {
   "cell_type": "markdown",
   "id": "27b38608",
   "metadata": {},
   "source": [
    "Can you use the `delete` API to remove all of the cats from the table?\n",
    "\n",
    "**HINT** use a SQL like filter string to specify which rows to delete from the table"
   ]
  },
  {
   "cell_type": "code",
   "execution_count": null,
   "id": "29e09aac",
   "metadata": {
    "scrolled": true
   },
   "outputs": [],
   "source": [
    "<fill me in>"
   ]
  },
  {
   "cell_type": "code",
   "execution_count": null,
   "id": "40893f3f",
   "metadata": {},
   "outputs": [],
   "source": [
    "len(table)"
   ]
  },
  {
   "cell_type": "markdown",
   "id": "48fbabf5",
   "metadata": {},
   "source": [
    "## What if I messed up?\n",
    "\n",
    "Errors is a common occurrence in AI. What's hard about errors in vector search is that oftentimes a bad vector doesn't cause a crash but just creates non-sensical answers. So to be able to rollback the state of the database is very important for debugging and reproducibility"
   ]
  },
  {
   "cell_type": "markdown",
   "id": "ee8032a3",
   "metadata": {},
   "source": [
    "So far we've accumulated 4 actions on the table:\n",
    "1. creation of the table\n",
    "2. added cats\n",
    "3. added dogs\n",
    "4. deleted cats"
   ]
  },
  {
   "cell_type": "markdown",
   "id": "5e85b09c",
   "metadata": {},
   "source": [
    "What if you realized that you should have deleted the dogs instead of the cats?\n",
    "\n",
    "Here we can see the 4 versions that correspond to the 4 actions we've done"
   ]
  },
  {
   "cell_type": "code",
   "execution_count": null,
   "id": "693d28d1",
   "metadata": {},
   "outputs": [],
   "source": [
    "table.list_versions()"
   ]
  },
  {
   "cell_type": "markdown",
   "id": "1c749c8b",
   "metadata": {},
   "source": [
    "Please write code to restore the version still containing the whole dataset"
   ]
  },
  {
   "cell_type": "code",
   "execution_count": null,
   "id": "d34780bb",
   "metadata": {},
   "outputs": [],
   "source": [
    "table = db[\"cats_and_dogs\"]"
   ]
  },
  {
   "cell_type": "code",
   "execution_count": null,
   "id": "2fb71d94",
   "metadata": {},
   "outputs": [],
   "source": [
    "len(table)"
   ]
  },
  {
   "cell_type": "code",
   "execution_count": null,
   "id": "c17faf84",
   "metadata": {},
   "outputs": [],
   "source": [
    "# restore to version 3\n",
    "\n",
    "<fill me in>"
   ]
  },
  {
   "cell_type": "code",
   "execution_count": null,
   "id": "45e405a3",
   "metadata": {},
   "outputs": [],
   "source": [
    "# delete the dogs instead\n",
    "\n",
    "<fill me in>"
   ]
  },
  {
   "cell_type": "code",
   "execution_count": null,
   "id": "b9c4ce6f",
   "metadata": {
    "scrolled": true
   },
   "outputs": [],
   "source": [
    "table.list_versions()"
   ]
  },
  {
   "cell_type": "code",
   "execution_count": null,
   "id": "a3bb1fa0",
   "metadata": {},
   "outputs": [],
   "source": [
    "table.to_pandas()"
   ]
  },
  {
   "cell_type": "markdown",
   "id": "81672a29",
   "metadata": {},
   "source": [
    "## Dropping a table\n",
    "\n",
    "You can also choose to drop a table, which also completely removes the data.\n",
    "Note that this operation is not reversible."
   ]
  },
  {
   "cell_type": "code",
   "execution_count": null,
   "id": "d84db57d",
   "metadata": {},
   "outputs": [],
   "source": [
    "\"cats_and_dogs\" in db"
   ]
  },
  {
   "cell_type": "markdown",
   "id": "b70b747b",
   "metadata": {},
   "source": [
    "Write code to irrevocably remove the table \"cats_and_dogs\" from the database"
   ]
  },
  {
   "cell_type": "code",
   "execution_count": null,
   "id": "f82fd78e",
   "metadata": {},
   "outputs": [],
   "source": [
    "<fill me in>"
   ]
  },
  {
   "cell_type": "markdown",
   "id": "68e6e3e7",
   "metadata": {},
   "source": [
    "How would you verify that the table has indeed been deleted?"
   ]
  },
  {
   "cell_type": "code",
   "execution_count": null,
   "id": "6571ec86",
   "metadata": {
    "scrolled": true
   },
   "outputs": [],
   "source": [
    "table.name in db"
   ]
  },
  {
   "cell_type": "markdown",
   "id": "b4a11ebf",
   "metadata": {},
   "source": [
    "## Summary\n",
    "\n",
    "Congrats, in this exercise you've learned the basic operations of vector databases from creating tables, to adding data, and to querying the data. You've learned how to create indices and you saw first hand how it changes the performance and the accuracy. Lastly, you've learned how to debug and rollback when errors happen."
   ]
  },
  {
   "cell_type": "code",
   "execution_count": null,
   "id": "28cd2022",
   "metadata": {},
   "outputs": [],
   "source": []
  }
 ],
 "metadata": {
  "kernelspec": {
   "display_name": ".venv",
   "language": "python",
   "name": "python3"
  },
  "language_info": {
   "codemirror_mode": {
    "name": "ipython",
    "version": 3
   },
   "file_extension": ".py",
   "mimetype": "text/x-python",
   "name": "python",
   "nbconvert_exporter": "python",
   "pygments_lexer": "ipython3",
   "version": "3.12.3"
  }
 },
 "nbformat": 4,
 "nbformat_minor": 5
}
