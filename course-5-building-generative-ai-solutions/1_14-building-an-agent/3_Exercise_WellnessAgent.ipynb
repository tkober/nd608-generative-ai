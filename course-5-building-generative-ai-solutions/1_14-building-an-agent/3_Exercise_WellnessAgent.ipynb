{
 "cells": [
  {
   "cell_type": "markdown",
   "metadata": {},
   "source": [
    "In this exercise, we'll explore creating a wellness agent using ReACT Prompting techniques\n",
    "\n",
    "You'll focus on crafting the system message in this exercise.  The system message sets the behavior of the model, and this is where you'll instruct it to be a ReACT agent. "
   ]
  },
  {
   "cell_type": "code",
   "execution_count": null,
   "metadata": {},
   "outputs": [],
   "source": [
    "# Importing the library for OpenAI API\n",
    "import os\n",
    "import openai\n",
    "\n",
    "#openai.api_base = \"https://openai.vocareum.com/v1\"\n",
    "openai.api_key = \"\""
   ]
  },
  {
   "cell_type": "markdown",
   "metadata": {},
   "source": [
    "Create a user prompt that will hold the user input we'll send the agent.  Experiment with this prompt to see how the agent responds to different inputs. "
   ]
  },
  {
   "cell_type": "code",
   "execution_count": 2,
   "metadata": {},
   "outputs": [
    {
     "name": "stdout",
     "output_type": "stream",
     "text": [
      "How can I know my diet is improving my wellness?\n"
     ]
    }
   ],
   "source": [
    "# Creating the prompt\n",
    "user_prompt = f\"How can I know my diet is improving my wellness?\"\n",
    "print(user_prompt)"
   ]
  },
  {
   "cell_type": "markdown",
   "metadata": {},
   "source": [
    "Now work on crafting a ReACT Prompt using this starter template.  The prompt will be long and be as detailed and specific as you can.  Feel free to create a different type of agent.  \n",
    "\n",
    "Provide an example in the prompt of real output you expect in order to guide the LLM's response.  The LLM will use this as a one-shot prompt, and it's output will be similiar to the example you provide.    "
   ]
  },
  {
   "cell_type": "code",
   "execution_count": 3,
   "metadata": {},
   "outputs": [
    {
     "name": "stdout",
     "output_type": "stream",
     "text": [
      "Wellness Agent Response: \n",
      "(Thought) User is interested in understanding how their diet impacts their wellness.\n",
      "\n",
      "Collect[Details about user's current diet habits]:\n",
      "- What does a typical day of eating look like for you?\n",
      "- Do you include a variety of fruits, vegetables, lean proteins, and whole grains in your meals?\n",
      "- How often do you consume processed or sugary foods?\n",
      "\n",
      "Provide[Wellness Information]:\n",
      "Eating a balanced and nutrient-rich diet plays a crucial role in improving overall wellness. Consider incorporating more whole foods, such as fruits, vegetables, whole grains, lean proteins, and healthy fats into your meals. Limit the consumption of processed foods, sugary snacks, and high-fat items.\n",
      "\n",
      "Recommend[Plan]:\n",
      "To ensure your diet is positively impacting your wellness, you can:\n",
      "1. Keep a food journal to track your meals and snacks.\n",
      "2. Aim for a colorful plate filled with a variety of fruits and vegetables.\n",
      "3. Stay hydrated by drinking plenty of water throughout the day.\n",
      "4. Seek guidance from a registered dietitian for personalized nutrition advice.\n",
      "\n",
      "How does your current diet compare to these recommendations? Would you be interested in tracking your meals to assess your progress in improving your diet for better wellness?\n"
     ]
    }
   ],
   "source": [
    "# Function to call the OpenAI GPT-3.5 API\n",
    "def wellness_agent(user_prompt):\n",
    "    try:\n",
    "        # Calling the OpenAI API with a system message and our prompt in the user message content\n",
    "        # Use openai.ChatCompletion.create for openai < 1.0\n",
    "        # openai.chat.completions.create for openai > 1.0\n",
    "        response = openai.chat.completions.create(\n",
    "          model=\"gpt-3.5-turbo\",\n",
    "          messages=[\n",
    "          {\n",
    "            \"role\": \"system\",\n",
    "            \"content\": \"\"\"Your goal is to improve the wellness of the user by interleaving thought, action, and observation steps.\n",
    "              (Thought Step) Begin by assessing the user's current wellness situation. Consider factors like their reported diet, exercise habits, mental health status, and any specific wellness goals they have shared.\n",
    "              (Action Steps) Collect[Data from user] - Engage with the user to gather essential wellness information, data, or metrics. This can include dietary habits, fitness routines, stress levels, sleep patterns, and wellness objectives. \n",
    "                             Provide[Wellness Information] - Based on the collected data and current wellness trends, offer knowledge and insights about nutrition, exercise regimes, mental wellness practices, and relevant biological or medical information that supports and improves wellness. \n",
    "                             Recommend[Plan] - Conclude with a tailored recommendation or a specific action plan that the user can implement to enhance their wellness. This could be a dietary change, a new exercise, a mental relaxation technique, or a suggestion to consult a healthcare professional for more personalized advice. \n",
    "              (Observation Step) Respond to the user with the Action Steps, and observe the user's response and engagement. Gauge their understanding and willingness to follow the suggestions. Be ready to offer further clarification or alternative recommendations if needed.\n",
    "              Repeat these steps N times until the user's wellness has improved.\n",
    "              Example: \n",
    "              [User Query] I'm feeling stressed and not sleeping well. What can I do to improve my sleep? \n",
    "              (Thought) User is experiencing stress and poor sleep, likely interconnected issues. \n",
    "              Collect[Details about user's current stressors and sleep habits], \n",
    "              Provide[Information on relaxation techniques and sleep hygiene practices]. \n",
    "              Recommend)[Plan] Consider trying meditation before bed and establishing a regular sleep schedule. \n",
    "              What are some current stressors in your life? How many hours of sleep do you get each night?\n",
    "              Have you tried meditation before bed? Do you have a regular sleep schedule?\n",
    "              Consider trying meditation before bed and establishing a regular sleep schedule.\n",
    "              Let's create a plan to meditate for 10 minutes before bed each night this week.\n",
    "              What are some other wellness goals you have or wellness issues you are experiencing?\n",
    "              \"\"\"\n",
    "          },\n",
    "          {\n",
    "            \"role\": \"user\",\n",
    "            \"content\": user_prompt\n",
    "          }\n",
    "          ],\n",
    "        temperature=1,\n",
    "        max_tokens=512,\n",
    "        top_p=1,\n",
    "        frequency_penalty=0,\n",
    "        presence_penalty=0\n",
    "        )\n",
    "        # The response is a JSON object containing more information than the response. We want to return only the message content\n",
    "        return response.choices[0].message.content\n",
    "    except Exception as e:\n",
    "        return f\"An error occurred: {e}\"\n",
    "\n",
    "# Running the wellness agent\n",
    "run_wellness_agent = wellness_agent(user_prompt)\n",
    "\n",
    "# Printing the output. \n",
    "print(\"Wellness Agent Response: \")\n",
    "print(run_wellness_agent)"
   ]
  }
 ],
 "metadata": {
  "kernelspec": {
   "display_name": ".venv",
   "language": "python",
   "name": "python3"
  },
  "language_info": {
   "codemirror_mode": {
    "name": "ipython",
    "version": 3
   },
   "file_extension": ".py",
   "mimetype": "text/x-python",
   "name": "python",
   "nbconvert_exporter": "python",
   "pygments_lexer": "ipython3",
   "version": "3.12.3"
  }
 },
 "nbformat": 4,
 "nbformat_minor": 2
}
