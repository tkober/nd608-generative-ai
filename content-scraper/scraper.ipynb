{
 "cells": [
  {
   "cell_type": "code",
   "execution_count": 54,
   "metadata": {},
   "outputs": [],
   "source": [
    "from selenium import webdriver\n",
    "from selenium.webdriver.chrome.service import Service\n",
    "from selenium.webdriver.chrome.options import Options\n",
    "\n",
    "options = Options()\n",
    "options.add_experimental_option(\"debuggerAddress\", \"127.0.0.1:9222\")\n",
    "\n",
    "service = Service('/usr/local/bin/chromedriver')\n",
    "driver = webdriver.Chrome(service=service, options=options)\n",
    "\n",
    "driver.get(\"https://learn.udacity.com/nanodegrees/nd608/parts/cd13318\")\n"
   ]
  },
  {
   "cell_type": "code",
   "execution_count": 55,
   "metadata": {},
   "outputs": [],
   "source": [
    "from selenium.webdriver.common.by import By\n",
    "\n",
    "links = driver.find_elements(By.CSS_SELECTOR, 'a')\n",
    "links = [l for l in links if '/nanodegrees/nd608' in l.get_attribute(name='href')]\n"
   ]
  },
  {
   "cell_type": "code",
   "execution_count": null,
   "metadata": {},
   "outputs": [
    {
     "name": "stderr",
     "output_type": "stream",
     "text": [
      "<>:2: SyntaxWarning: invalid escape sequence '\\:'\n",
      "<>:2: SyntaxWarning: invalid escape sequence '\\:'\n",
      "/tmp/ipykernel_16918/3420264750.py:2: SyntaxWarning: invalid escape sequence '\\:'\n",
      "  bla = driver.find_elements(By.CSS_SELECTOR, '#popover-trigger-\\:r7c\\: > div > div > p.chakra-text.css-hr2ckl')\n"
     ]
    },
    {
     "data": {
      "text/plain": [
       "[]"
      ]
     },
     "execution_count": 56,
     "metadata": {},
     "output_type": "execute_result"
    }
   ],
   "source": [
    "driver.get(links[0].get_attribute(name='href'))"
   ]
  },
  {
   "cell_type": "code",
   "execution_count": 57,
   "metadata": {},
   "outputs": [
    {
     "name": "stderr",
     "output_type": "stream",
     "text": [
      "<>:1: SyntaxWarning: invalid escape sequence '\\:'\n",
      "<>:1: SyntaxWarning: invalid escape sequence '\\:'\n",
      "/tmp/ipykernel_16918/1694403736.py:1: SyntaxWarning: invalid escape sequence '\\:'\n",
      "  bla = driver.find_elements(By.CSS_SELECTOR, '#popover-trigger-\\:r7c\\: > div > div > p.chakra-text.css-hr2ckl')\n"
     ]
    },
    {
     "data": {
      "text/plain": [
       "[]"
      ]
     },
     "execution_count": 57,
     "metadata": {},
     "output_type": "execute_result"
    }
   ],
   "source": [
    "bla = driver.find_elements(By.CSS_SELECTOR, '#popover-trigger-\\:r7c\\: > div > div > p.chakra-text.css-hr2ckl')\n",
    "bla"
   ]
  },
  {
   "cell_type": "code",
   "execution_count": null,
   "metadata": {},
   "outputs": [],
   "source": []
  }
 ],
 "metadata": {
  "kernelspec": {
   "display_name": ".venv",
   "language": "python",
   "name": "python3"
  },
  "language_info": {
   "codemirror_mode": {
    "name": "ipython",
    "version": 3
   },
   "file_extension": ".py",
   "mimetype": "text/x-python",
   "name": "python",
   "nbconvert_exporter": "python",
   "pygments_lexer": "ipython3",
   "version": "3.12.3"
  }
 },
 "nbformat": 4,
 "nbformat_minor": 2
}
