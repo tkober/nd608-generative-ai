{
 "cells": [
  {
   "cell_type": "code",
   "execution_count": 12,
   "metadata": {
    "slideshow": {
     "slide_type": ""
    },
    "tags": []
   },
   "outputs": [],
   "source": [
    "from __future__ import annotations\n",
    "\n",
    "import unicodedata\n",
    "import string"
   ]
  },
  {
   "cell_type": "markdown",
   "metadata": {},
   "source": [
    "# Tokenization Steps\n",
    "\n",
    "In this exercise, you'll code your own tokenizer from scratching using base\n",
    "Python!\n",
    "\n",
    "You might normally start with a pretrained tokenizer, but this exercise will\n",
    "help you get to know see some of the tokenization steps better."
   ]
  },
  {
   "cell_type": "markdown",
   "metadata": {},
   "source": [
    "## Define Sample Text\n",
    "\n",
    "Let's first define some sample text you will use to test your tokenization\n",
    "steps."
   ]
  },
  {
   "cell_type": "code",
   "execution_count": 13,
   "metadata": {},
   "outputs": [
    {
     "name": "stdout",
     "output_type": "stream",
     "text": [
      "Mr. Louis continued to say, \"Penguins are important, \n",
      "but we mustn't forget the nuumber 1 priority: the READER!\"\n",
      "\n"
     ]
    }
   ],
   "source": [
    "sample_text = '''Mr. Louis continued to say, \"Penguins are important, \n",
    "but we mustn't forget the nuumber 1 priority: the READER!\"\n",
    "'''\n",
    "\n",
    "print(sample_text)"
   ]
  },
  {
   "cell_type": "markdown",
   "metadata": {},
   "source": [
    "## Normalization\n",
    "\n",
    "This step is where you'll normalize your text by converting to lowercase,\n",
    "removing accented characters, etc.\n",
    "\n",
    "For example, the text:\n",
    "```\n",
    "Did Uncle Max like the jalapeño dip?\n",
    "```\n",
    "might be normalized to:\n",
    "```\n",
    "did uncle max like the jalapeno dip\n",
    "```"
   ]
  },
  {
   "cell_type": "code",
   "execution_count": 14,
   "metadata": {
    "slideshow": {
     "slide_type": ""
    },
    "tags": []
   },
   "outputs": [],
   "source": [
    "def normalize_text(text: str) -> str:\n",
    "    normalized_text = ''.join(c for c in unicodedata.normalize('NFD', text) if unicodedata.category(c) != 'Mn')\n",
    "    return normalized_text.lower()"
   ]
  },
  {
   "cell_type": "code",
   "execution_count": 15,
   "metadata": {},
   "outputs": [
    {
     "data": {
      "text/plain": [
       "'mr. louis continued to say, \"penguins are important, \\nbut we mustn\\'t forget the nuumber 1 priority: the reader!\"\\n'"
      ]
     },
     "execution_count": 15,
     "metadata": {},
     "output_type": "execute_result"
    }
   ],
   "source": [
    "# Test out your normalization\n",
    "normalize_text(sample_text)"
   ]
  },
  {
   "cell_type": "markdown",
   "metadata": {},
   "source": [
    "## Pretokenization\n",
    "\n",
    "This step will take in the normalized text and pretokenize the text into a list\n",
    "of smaller pieces.\n",
    "\n",
    "For example, the text:\n",
    "```\n",
    "Did Uncle Max like the jalapeño dip?\n",
    "```\n",
    "might be normalized & then pretokenized to:\n",
    "```\n",
    "[\n",
    "    'did',\n",
    "    'uncle',\n",
    "    'max',\n",
    "    'like',\n",
    "    'the',\n",
    "    'jalapeno',\n",
    "    'dip?',\n",
    "]\n",
    "```"
   ]
  },
  {
   "cell_type": "code",
   "execution_count": 16,
   "metadata": {},
   "outputs": [],
   "source": [
    "def pretokenize_text(text: str) -> list[str]:\n",
    "    smaller_pieces = text.split()\n",
    "    return smaller_pieces"
   ]
  },
  {
   "cell_type": "code",
   "execution_count": 17,
   "metadata": {},
   "outputs": [
    {
     "data": {
      "text/plain": [
       "['mr.',\n",
       " 'louis',\n",
       " 'continued',\n",
       " 'to',\n",
       " 'say,',\n",
       " '\"penguins',\n",
       " 'are',\n",
       " 'important,',\n",
       " 'but',\n",
       " 'we',\n",
       " \"mustn't\",\n",
       " 'forget',\n",
       " 'the',\n",
       " 'nuumber',\n",
       " '1',\n",
       " 'priority:',\n",
       " 'the',\n",
       " 'reader!\"']"
      ]
     },
     "execution_count": 17,
     "metadata": {},
     "output_type": "execute_result"
    }
   ],
   "source": [
    "# Test out your pretokenization step (after normalizing the text)\n",
    "normalized_text = normalize_text(sample_text)\n",
    "pretokenize_text(normalized_text)"
   ]
  },
  {
   "cell_type": "markdown",
   "metadata": {},
   "source": [
    "## Tokenization\n",
    "\n",
    "This step will take in the list of pretokenized pieces (after the text has \n",
    "been normalized) into the tokens that will be used.\n",
    "\n",
    "For example, the text:\n",
    "```\n",
    "Did Uncle Max like the jalapeño dip?\n",
    "```\n",
    "might be normalized, pretokenized, and then tokenized to:\n",
    "```\n",
    "[\n",
    "    'did',\n",
    "    'uncle',\n",
    "    'max',\n",
    "    'like',\n",
    "    'the',\n",
    "    'jalapeno',\n",
    "    'dip'\n",
    "    '?',\n",
    "]\n",
    "```"
   ]
  },
  {
   "cell_type": "code",
   "execution_count": null,
   "metadata": {},
   "outputs": [
    {
     "name": "stdout",
     "output_type": "stream",
     "text": [
      "['mr.', 'louis', 'continued', 'to', 'say,', '\"penguins', 'are', 'important,', 'but', 'we', \"mustn't\", 'forget', 'the', 'nuumber', '1', 'priority:', 'the', 'reader!\"']\n"
     ]
    },
    {
     "data": {
      "text/plain": [
       "['mr',\n",
       " '.',\n",
       " 'louis',\n",
       " 'continued',\n",
       " 'to',\n",
       " 'say',\n",
       " ',',\n",
       " '\"',\n",
       " 'penguins',\n",
       " 'are',\n",
       " 'important',\n",
       " ',',\n",
       " 'but',\n",
       " 'we',\n",
       " 'mustn',\n",
       " \"'\",\n",
       " 't',\n",
       " 'forget',\n",
       " 'the',\n",
       " 'nuumber',\n",
       " '1',\n",
       " 'priority',\n",
       " ':',\n",
       " 'the',\n",
       " 'reader',\n",
       " '!',\n",
       " '\"']"
      ]
     },
     "execution_count": 34,
     "metadata": {},
     "output_type": "execute_result"
    }
   ],
   "source": [
    "# Combine normalization and pretokenization steps before breaking things further\n",
    "def tokenize_text(text: str) -> list[str]:\n",
    "    # Apply normalization & pretokenization steps \n",
    "    normalized_text: str = normalize_text(text)\n",
    "    pretokenized_text: list[str] = pretokenize_text(normalized_text)\n",
    "\n",
    "    tokens = []\n",
    "    for text in pretokenized_text:\n",
    "        token = ''\n",
    "        for char in text:\n",
    "            if char in string.ascii_lowercase:\n",
    "                token += char\n",
    "            else:\n",
    "                if token:\n",
    "                    tokens.append(token)\n",
    "                    token = ''\n",
    "                tokens.append(char)\n",
    "                \n",
    "        if token:\n",
    "            tokens.append(token)   \n",
    "\n",
    "    return tokens\n",
    "\n",
    "\n",
    "# Test out your tokenization (that uses normalizing & pretokenizing functions)\n",
    "tokenize_text(sample_text)"
   ]
  },
  {
   "cell_type": "markdown",
   "metadata": {},
   "source": [
    "## Postprocessing\n",
    "\n",
    "This final step will take in the list of tokens from the original text and add\n",
    "any special tokens to the text.\n",
    "\n",
    "For example, the text:\n",
    "```\n",
    "Did Uncle Max like the jalapeño dip?\n",
    "```\n",
    "might be normalized, pretokenized, and then tokenized to:\n",
    "```\n",
    "[\n",
    "    '[BOS]',\n",
    "    'did',\n",
    "    'uncle',\n",
    "    'max',\n",
    "    'like',\n",
    "    'the',\n",
    "    'jalapeno',\n",
    "    'dip'\n",
    "    '?',\n",
    "    '[EOS]',\n",
    "]\n",
    "```"
   ]
  },
  {
   "cell_type": "code",
   "execution_count": 35,
   "metadata": {},
   "outputs": [],
   "source": [
    "def postprocess_tokens(tokens: list[str]) -> list[str]:\n",
    "    # TODO: Add beginning and end of sequence tokens to your tokenized text\n",
    "    # Can use a format like '[BOS]' & '[EOS]'\n",
    "    updated_tokens = ['[BOS]'] + tokens + ['[EOS]']\n",
    "    return updated_tokens"
   ]
  },
  {
   "cell_type": "code",
   "execution_count": 36,
   "metadata": {},
   "outputs": [
    {
     "name": "stdout",
     "output_type": "stream",
     "text": [
      "['mr.', 'louis', 'continued', 'to', 'say,', '\"penguins', 'are', 'important,', 'but', 'we', \"mustn't\", 'forget', 'the', 'nuumber', '1', 'priority:', 'the', 'reader!\"']\n",
      "['[BOS]', 'mr', '.', 'louis', 'continued', 'to', 'say', ',', '\"', 'penguins', 'are', 'important', ',', 'but', 'we', 'mustn', \"'\", 't', 'forget', 'the', 'nuumber', '1', 'priority', ':', 'the', 'reader', '!', '\"', '[EOS]']\n"
     ]
    }
   ],
   "source": [
    "# Test full pipeline (normalizing, pretokenizing, tokenizing, & postprocessing)\n",
    "tokens = tokenize_text(sample_text)\n",
    "tokens = postprocess_tokens(tokens)\n",
    "\n",
    "print(tokens)"
   ]
  },
  {
   "cell_type": "markdown",
   "metadata": {},
   "source": [
    "# Encoding & Decoding"
   ]
  },
  {
   "cell_type": "markdown",
   "metadata": {},
   "source": [
    "## Encoding Text to Token IDs\n",
    "\n",
    "Create an encoder (`encode()`) that will encode the token strings to integer IDs\n",
    "by defining how to map each token to a unique ID.\n",
    "\n",
    "> HINT: \n",
    "> \n",
    "> An easy method is to assign an arbitrary integer to each unique token from \n",
    "> the corpus by iterating through the unique tokens."
   ]
  },
  {
   "cell_type": "code",
   "execution_count": 37,
   "metadata": {},
   "outputs": [
    {
     "name": "stderr",
     "output_type": "stream",
     "text": [
      "<>:5: SyntaxWarning: invalid escape sequence '\\m'\n",
      "<>:5: SyntaxWarning: invalid escape sequence '\\m'\n",
      "/tmp/ipykernel_673/4063661453.py:5: SyntaxWarning: invalid escape sequence '\\m'\n",
      "  '''Both by myself and many other friends:\\mBut he, his own affections' counsellor,\\nIs to himself--I will not say how true--\\nBut to himself so secret and so close,'''\n"
     ]
    }
   ],
   "source": [
    "# Sample corpus (normally this would be much bigger)\n",
    "sample_corpus = (\n",
    "    '''Mr. Louis continued to say, \"Penguins are important, \\nbut we mustn't forget the nuumber 1 priority: the READER!\"''',\n",
    "    '''BRUTUS:\\nHe's a lamb indeed, that baes like a bear.''',\n",
    "    '''Both by myself and many other friends:\\mBut he, his own affections' counsellor,\\nIs to himself--I will not say how true--\\nBut to himself so secret and so close,'''\n",
    ")"
   ]
  },
  {
   "cell_type": "code",
   "execution_count": 47,
   "metadata": {},
   "outputs": [],
   "source": [
    "# TODO: Create an encoder to transform token strings to IDs using the sample\n",
    "# corpus as the basis of your encoding\n",
    "\n",
    "# TODO: Your code here (might be outside of the encode() function scope)\n",
    "\n",
    "class TokenEncoder:\n",
    "\n",
    "    def __init__(self, tokens: list[str]):\n",
    "        self.unique_tokens = set(tokens)\n",
    "        self.token_to_id = {token: i for i, token in enumerate(self.unique_tokens)}\n",
    "        self.id_to_token = {i: token  for i, token in enumerate(self.unique_tokens)}\n",
    "\n",
    "    def encode(self, tokens: list[str]) -> list[int]:\n",
    "        return [ self.token_to_id[token] for token in tokens ]\n",
    "    \n",
    "    def decode(self, ids: list[int]) -> list[str]:\n",
    "        return [ self.id_to_token[i] for i in ids ]"
   ]
  },
  {
   "cell_type": "markdown",
   "metadata": {},
   "source": [
    "### Test `encode()`"
   ]
  },
  {
   "cell_type": "code",
   "execution_count": 48,
   "metadata": {},
   "outputs": [
    {
     "name": "stdout",
     "output_type": "stream",
     "text": [
      "['mr.', 'louis', 'continued', 'to', 'say,', '\"penguins', 'are', 'important,', 'but', 'we', \"mustn't\", 'forget', 'the', 'nuumber', '1', 'priority:', 'the', 'reader!\"']\n",
      "Tokens:\n",
      "['[BOS]', 'mr', '.', 'louis', 'continued', 'to', 'say', ',', '\"', 'penguins', 'are', 'important', ',', 'but', 'we', 'mustn', \"'\", 't', 'forget', 'the', 'nuumber', '1', 'priority', ':', 'the', 'reader', '!', '\"', '[EOS]']\n",
      "\n"
     ]
    }
   ],
   "source": [
    "# Use sample text for testing\n",
    "sample_text = sample_corpus[0]\n",
    "# Create tokens (to be fed to encode())\n",
    "tokens = tokenize_text(sample_text)\n",
    "tokens = postprocess_tokens(tokens)\n",
    "print(f'Tokens:\\n{tokens}\\n')\n",
    "\n",
    "encoder = TokenEncoder(tokens)"
   ]
  },
  {
   "cell_type": "code",
   "execution_count": 49,
   "metadata": {},
   "outputs": [
    {
     "name": "stdout",
     "output_type": "stream",
     "text": [
      "Encoded Tokens:\n",
      "[13, 25, 3, 16, 7, 12, 8, 21, 22, 17, 11, 9, 21, 6, 18, 2, 1, 4, 10, 19, 0, 20, 15, 24, 19, 14, 23, 22, 5]\n",
      "\n"
     ]
    }
   ],
   "source": [
    "# Test encode()\n",
    "encoded_tokens = encoder.encode(tokens)\n",
    "print(f'Encoded Tokens:\\n{encoded_tokens}\\n')"
   ]
  },
  {
   "cell_type": "markdown",
   "metadata": {},
   "source": [
    "## Decoding Token IDs to Text\n",
    "\n",
    "Based on your enocder you created (`encode()`), create a decoder (`decode()`) to\n",
    "take a list of token IDs and map them to their associated token."
   ]
  },
  {
   "cell_type": "code",
   "execution_count": 50,
   "metadata": {},
   "outputs": [],
   "source": [
    "# TODO: Create an encoder to transform IDs (from encode()) to token strings\n",
    "\n",
    "def decode(ids: list[int]) -> list[str]:\n",
    "    # TODO: Complete this function to decode integer IDs to token strings\n",
    "    token_strings = list()\n",
    "    return token_strings"
   ]
  },
  {
   "cell_type": "markdown",
   "metadata": {},
   "source": [
    "### Test `decode()`"
   ]
  },
  {
   "cell_type": "code",
   "execution_count": 52,
   "metadata": {},
   "outputs": [
    {
     "name": "stdout",
     "output_type": "stream",
     "text": [
      "['mr.', 'louis', 'continued', 'to', 'say,', '\"penguins', 'are', 'important,', 'but', 'we', \"mustn't\", 'forget', 'the', 'nuumber', '1', 'priority:', 'the', 'reader!\"']\n",
      "Tokens:\n",
      "['[BOS]', 'mr', '.', 'louis', 'continued', 'to', 'say', ',', '\"', 'penguins', 'are', 'important', ',', 'but', 'we', 'mustn', \"'\", 't', 'forget', 'the', 'nuumber', '1', 'priority', ':', 'the', 'reader', '!', '\"', '[EOS]']\n",
      "\n",
      "Encoded Tokens:\n",
      "[13, 25, 3, 16, 7, 12, 8, 21, 22, 17, 11, 9, 21, 6, 18, 2, 1, 4, 10, 19, 0, 20, 15, 24, 19, 14, 23, 22, 5]\n",
      "\n"
     ]
    }
   ],
   "source": [
    "# Use sample text for testing\n",
    "sample_text = sample_corpus[0]\n",
    "# Create tokens\n",
    "tokens = tokenize_text(sample_text)\n",
    "tokens = postprocess_tokens(tokens)\n",
    "print(f'Tokens:\\n{tokens}\\n')\n",
    "\n",
    "# Create token IDs (to be fed to decode())\n",
    "encoded_tokens = encoder.encode(tokens)\n",
    "print(f'Encoded Tokens:\\n{encoded_tokens}\\n')"
   ]
  },
  {
   "cell_type": "code",
   "execution_count": 53,
   "metadata": {},
   "outputs": [
    {
     "name": "stdout",
     "output_type": "stream",
     "text": [
      "Decoded Tokens:\n",
      "['[BOS]', 'mr', '.', 'louis', 'continued', 'to', 'say', ',', '\"', 'penguins', 'are', 'important', ',', 'but', 'we', 'mustn', \"'\", 't', 'forget', 'the', 'nuumber', '1', 'priority', ':', 'the', 'reader', '!', '\"', '[EOS]']\n",
      "\n"
     ]
    }
   ],
   "source": [
    "# Test out decode()\n",
    "decoded_tokens = encoder.decode(encoded_tokens)\n",
    "print(f'Decoded Tokens:\\n{decoded_tokens}\\n')"
   ]
  },
  {
   "cell_type": "code",
   "execution_count": null,
   "metadata": {},
   "outputs": [],
   "source": []
  }
 ],
 "metadata": {
  "kernelspec": {
   "display_name": ".venv",
   "language": "python",
   "name": "python3"
  },
  "language_info": {
   "codemirror_mode": {
    "name": "ipython",
    "version": 3
   },
   "file_extension": ".py",
   "mimetype": "text/x-python",
   "name": "python",
   "nbconvert_exporter": "python",
   "pygments_lexer": "ipython3",
   "version": "3.12.3"
  }
 },
 "nbformat": 4,
 "nbformat_minor": 4
}
